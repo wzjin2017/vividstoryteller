{
  "nbformat": 4,
  "nbformat_minor": 0,
  "metadata": {
    "colab": {
      "name": "image transfer",
      "version": "0.3.2",
      "provenance": [],
      "collapsed_sections": []
    },
    "language_info": {
      "codemirror_mode": {
        "name": "ipython",
        "version": 2
      },
      "file_extension": ".py",
      "mimetype": "text/x-python",
      "name": "python",
      "nbconvert_exporter": "python",
      "pygments_lexer": "ipython2",
      "version": "2.7.12"
    },
    "kernelspec": {
      "display_name": "Python [default]",
      "language": "python",
      "name": "python2"
    }
  },
  "cells": [
    {
      "cell_type": "code",
      "metadata": {
        "id": "lX6JeVmw563Q",
        "colab_type": "code",
        "colab": {}
      },
      "source": [
        ""
      ],
      "execution_count": 0,
      "outputs": []
    },
    {
      "cell_type": "markdown",
      "metadata": {
        "id": "PU8o-uIO5fhx",
        "colab_type": "text"
      },
      "source": [
        "## image transfer"
      ]
    },
    {
      "cell_type": "code",
      "metadata": {
        "scrolled": true,
        "id": "X7ezU8BH5fhy",
        "colab_type": "code",
        "colab": {}
      },
      "source": [
        "import numpy as np\n",
        "import pickle\n",
        "import scipy\n",
        "\n",
        "import theano\n",
        "import theano.tensor as T\n",
        "\n",
        "import matplotlib.pyplot as plt\n",
        "%matplotlib inline\n",
        "\n",
        "import dlp_layers\n",
        "from dlp_layers import floatX\n",
        "\n",
        "from PIL import Image"
      ],
      "execution_count": 0,
      "outputs": []
    },
    {
      "cell_type": "code",
      "metadata": {
        "id": "MnCcQuEx5fh3",
        "colab_type": "code",
        "colab": {}
      },
      "source": [
        "from dlp_layers import softmax\n",
        "from dlp_layers import InputLayer, ConvLayer, PoolLayer\n",
        "IMAGE_W = 600\n",
        "def build_model():\n",
        "    net = {}\n",
        "    net['input'] = InputLayer((1, 3, IMAGE_W, IMAGE_W))\n",
        "    net['conv1_1'] = ConvLayer(net['input'], 64, 3)\n",
        "    net['conv1_2'] = ConvLayer(net['conv1_1'], 64, 3)   \n",
        "    net['pool1'] = PoolLayer(net['conv1_2'], 2)\n",
        "    net['conv2_1'] = ConvLayer(net['pool1'], 128, 3)\n",
        "    net['conv2_2'] = ConvLayer(net['conv2_1'], 128, 3)\n",
        "    net['pool2'] = PoolLayer(net['conv2_2'], 2)\n",
        "    net['conv3_1'] = ConvLayer(net['pool2'], 256, 3)\n",
        "    net['conv3_2'] = ConvLayer(net['conv3_1'], 256, 3)\n",
        "    net['conv3_3'] = ConvLayer(net['conv3_2'], 256, 3)\n",
        "    net['conv3_4'] = ConvLayer(net['conv3_3'], 256, 3)\n",
        "    net['pool3'] = PoolLayer(net['conv3_4'], 2)\n",
        "    net['conv4_1'] = ConvLayer(net['pool3'], 512, 3)\n",
        "    net['conv4_2'] = ConvLayer(net['conv4_1'], 512, 3)\n",
        "    net['conv4_3'] = ConvLayer(net['conv4_2'], 512, 3)\n",
        "    net['conv4_4'] = ConvLayer(net['conv4_3'], 512, 3)\n",
        "    net['pool4'] = PoolLayer(net['conv4_4'], 2)\n",
        "    net['conv5_1'] = ConvLayer(net['pool4'], 512, 3)\n",
        "    net['conv5_2'] = ConvLayer(net['conv5_1'], 512, 3)\n",
        "    net['conv5_3'] = ConvLayer(net['conv5_2'], 512, 3)\n",
        "    net['conv5_4'] = ConvLayer(net['conv5_3'], 512, 3)\n",
        "    net['pool5'] = PoolLayer(net['conv5_4'], 2)\n",
        "\n",
        "    return net"
      ],
      "execution_count": 0,
      "outputs": []
    },
    {
      "cell_type": "code",
      "metadata": {
        "id": "nkHMN73V6DoP",
        "colab_type": "code",
        "colab": {}
      },
      "source": [
        ""
      ],
      "execution_count": 0,
      "outputs": []
    },
    {
      "cell_type": "code",
      "metadata": {
        "id": "AZGEIheD5fh6",
        "colab_type": "code",
        "colab": {}
      },
      "source": [
        "net = build_model()\n",
        "values = pickle.load(open('vgg19_normalized.pkl'))['param values']\n",
        "dlp_layers.set_all_param_values(net['pool5'], values)"
      ],
      "execution_count": 0,
      "outputs": []
    },
    {
      "cell_type": "code",
      "metadata": {
        "id": "sk5LBPGs5fh9",
        "colab_type": "code",
        "colab": {}
      },
      "source": [
        "def processing_image(im, Image_Dimension = 600):\n",
        "    img = im.resize( (Image_Dimension, Image_Dimension), Image.ANTIALIAS)\n",
        "    original_image = img.copy()\n",
        "    img = np.array(img).astype('float32')    \n",
        "    img = np.rollaxis(np.rollaxis(img, 2, 1), 1, 0)\n",
        "    ig = img.copy()\n",
        "    for i in xrange(int(ig.shape[0])):\n",
        "        img[i,:,:] = ig[int(ig.shape[0])-1-i,:,:]\n",
        "    mean = np.array([np.mean(img[i,:,:]) for i in xrange(3)]).reshape(3,1,1)\n",
        "    \n",
        "    img -= mean\n",
        "    img = img[np.newaxis]\n",
        "    \n",
        "    return original_image, img, mean"
      ],
      "execution_count": 0,
      "outputs": []
    },
    {
      "cell_type": "code",
      "metadata": {
        "colab_type": "code",
        "id": "uLGo8UW65vVA",
        "colab": {}
      },
      "source": [
        "photo = Image.open('picture.jpg')\n",
        "original_image, photo, m_pircure  = processing_image(photo)\n",
        "plt.imshow(original_image)"
      ],
      "execution_count": 0,
      "outputs": []
    },
    {
      "cell_type": "code",
      "metadata": {
        "id": "sN1rmiQ-5fiC",
        "colab_type": "code",
        "colab": {}
      },
      "source": [
        "art = Image.open('art.jpg')\n",
        "rawim, art, mean_art = processing_image(art)\n",
        "plt.imshow(rawim)"
      ],
      "execution_count": 0,
      "outputs": []
    },
    {
      "cell_type": "code",
      "metadata": {
        "id": "VqyP-q-B5fiE",
        "colab_type": "code",
        "colab": {}
      },
      "source": [
        "def reveal(x, MEAN_VALUES = mean_art):\n",
        "    x = np.copy(x[0])\n",
        "    x += MEAN_VALUES\n",
        "\n",
        "    x = x[::-1]\n",
        "    x = np.rollaxis(np.rollaxis(x,1,0),2,1)\n",
        "    x = np.clip(x, 0, 255).astype('uint8')\n",
        "    return x"
      ],
      "execution_count": 0,
      "outputs": []
    },
    {
      "cell_type": "code",
      "metadata": {
        "id": "Ny1gB9kQ5fiH",
        "colab_type": "code",
        "colab": {}
      },
      "source": [
        "all_layers = ['conv1_1', 'conv1_2','conv2_1','conv2_2', 'conv3_1', 'conv3_2', 'conv3_3', 'conv3_4',\n",
        "          'conv4_1', 'conv4_2', 'conv4_3', 'conv4_4','conv5_1', 'conv5_2','conv5_3', 'conv5_4']\n",
        "layers = {k: net[k] for k in all_layers}"
      ],
      "execution_count": 0,
      "outputs": []
    },
    {
      "cell_type": "code",
      "metadata": {
        "id": "ULk2ZUlW5fiJ",
        "colab_type": "code",
        "colab": {}
      },
      "source": [
        "input_im_theano = T.tensor4()\n",
        "outputs = dlp_layers.get_output(layers.values(), input_im_theano)\n",
        "\n",
        "photo_features = {k: theano.shared(output.eval({input_im_theano: photo}))\n",
        "                  for k, output in zip(layers.keys(), outputs)}\n",
        "art_features = {k: theano.shared(output.eval({input_im_theano: art}))\n",
        "                for k, output in zip(layers.keys(), outputs)}"
      ],
      "execution_count": 0,
      "outputs": []
    },
    {
      "cell_type": "code",
      "metadata": {
        "id": "rRGv7iPt5fiL",
        "colab_type": "code",
        "colab": {}
      },
      "source": [
        "generated_image = theano.shared(floatX(np.random.uniform(-128, 128, (1, 3, IMAGE_W, IMAGE_W))))\n",
        "\n",
        "gen_features = dlp_layers.get_output(layers.values(), generated_image)\n",
        "gen_features = {k: v for k, v in zip(layers.keys(), gen_features)}"
      ],
      "execution_count": 0,
      "outputs": []
    },
    {
      "cell_type": "code",
      "metadata": {
        "id": "d24K6nge5fiP",
        "colab_type": "code",
        "colab": {}
      },
      "source": [
        "def content_loss(p, x):\n",
        "    return 1.0/2 * ((p - x)**2).sum()\n",
        "\n",
        "def style_loss(a, x):\n",
        "    A = T.tensordot(a.flatten(ndim=3), a.flatten(ndim=3), axes = ([2],[2]))\n",
        "    G = T.tensordot(x.flatten(ndim=3), x.flatten(ndim=3), axes = ([2],[2]))\n",
        "    N = a.shape[1]\n",
        "    M = a.shape[2] * a.shape[3]\n",
        "    \n",
        "    return 1.0/(4 * N**2 * M**2) * ((G - A)**2).sum()\n",
        "\n",
        "def reconstruction(content_layers, style_layers, alpha = 1, beta = 1):\n",
        "\n",
        "    L_c, L_s = 0, 0\n",
        "    w = 1.0/len(style_layers)\n",
        "    for i in xrange(len(content_layers)):\n",
        "        L_c += content_loss(photo_features[content_layers[i]], gen_features[content_layers[i]])\n",
        "        \n",
        "    for i in xrange(len(style_layers)):\n",
        "        L_s += w*style_loss(art_features[style_layers[i]], gen_features[style_layers[i]])\n",
        "        \n",
        "    total_loss = alpha*L_c + beta*L_s \n",
        "    grad = T.grad(total_loss, generated_image)    \n",
        "       \n",
        "    f_loss = theano.function([], total_loss)\n",
        "    f_grad = theano.function([], grad)\n",
        "\n",
        "    generated_image.set_value(floatX(np.random.uniform(-128, 128, (1, 3, IMAGE_W, IMAGE_W))))\n",
        "\n",
        "    x0 = generated_image.get_value().astype('float64')\n",
        "    xs = []\n",
        "    xs.append(x0)\n",
        "\n",
        "    learning_rate,gamma, velocity= 0.5, 0.3, 0\n",
        "    for i in range(2001):\n",
        "        generated_image.set_value(floatX(x0))\n",
        "        \n",
        "        grad = T.grad(total_loss, generated_image)\n",
        "        f_loss = theano.function([], total_loss)\n",
        "        f_grad = theano.function([], grad)\n",
        "\n",
        "        dloss = np.array(f_grad()).astype('float64')\n",
        "        velocity = gamma * velocity + learning_rate * dloss\n",
        "        x0 -= velocity\n",
        "        if i % 200 == 0:\n",
        "            xs.append(x0)\n",
        "\n",
        "    \n",
        "    return xs[-1]\n",
        "\n"
      ],
      "execution_count": 0,
      "outputs": []
    },
    {
      "cell_type": "code",
      "metadata": {
        "id": "mluIuUn15fiR",
        "colab_type": "code",
        "colab": {}
      },
      "source": [
        "content_layers = ['conv4_2']\n",
        "style_layers = ['conv1_1']\n",
        "alpha = 0.001\n",
        "beta = [1e6, 1e5, 1e4, 1e3]\n",
        "images = []\n",
        "for i in xrange(4):\n",
        "    images.append(reconstruction(content_layers, style_layers, alpha = alpha, beta = beta[i]))\n",
        "    \n",
        "titles = ['10^-9', '10^-8', '10^-7','10^-6']\n",
        "plt.figure(figsize=(60,60))\n",
        "for i in xrange(4):\n",
        "    plt.subplot(1, 4, i+1)\n",
        "    plt.ylabel('{0}'.format(style_layers[-1]))\n",
        "    plt.title('{0}'.format(titles[i]))\n",
        "    plt.imshow(reveal(images[i]))\n",
        "plt.savefig('{0}.jpg'.format(style_layers[-1]))"
      ],
      "execution_count": 0,
      "outputs": []
    },
    {
      "cell_type": "code",
      "metadata": {
        "id": "0aDPg7dT5fiU",
        "colab_type": "code",
        "colab": {}
      },
      "source": [
        "content_layers = ['conv4_2']\n",
        "style_layers = ['conv1_1', 'conv2_1']\n",
        "alpha = 0.001\n",
        "beta = [2e6, 2e5, 2e4, 2e3]\n",
        "images = []\n",
        "for i in xrange(4):\n",
        "    images.append(reconstruction(content_layers, style_layers, alpha = alpha, beta = beta[i]))\n",
        "    \n",
        "titles = ['10^-9', '10^-8', '10^-7','10^-6']\n",
        "plt.figure(figsize=(60,60))\n",
        "for i in xrange(4):\n",
        "    plt.subplot(1, 4, i+1)\n",
        "    plt.ylabel('{0}'.format(style_layers[-1]))\n",
        "    plt.title('{0}'.format(titles[i]),)\n",
        "    plt.imshow(reveal(images[i]))\n",
        "plt.savefig('{0}.jpg'.format(style_layers[-1]))"
      ],
      "execution_count": 0,
      "outputs": []
    },
    {
      "cell_type": "code",
      "metadata": {
        "id": "tAY6NATJ5fia",
        "colab_type": "code",
        "colab": {}
      },
      "source": [
        "content_layers = ['conv4_2']\n",
        "style_layers = ['conv1_1', 'conv2_1', 'conv3_1']\n",
        "alpha = 0.001\n",
        "beta = [3e6, 3e5, 3e4, 3e3]\n",
        "images = []\n",
        "for i in xrange(4):\n",
        "    images.append(reconstruction(content_layers, style_layers, alpha = alpha, beta = beta[i]))\n",
        "    \n",
        "titles = ['10^-9', '10^-8', '10^-7','10^-6']\n",
        "plt.figure(figsize=(60,60))\n",
        "for i in xrange(4):\n",
        "    plt.subplot(1, 4, i+1)\n",
        "    plt.ylabel('{0}'.format(style_layers[-1]))\n",
        "    plt.title('{0}'.format(titles[i]))\n",
        "    plt.imshow(reveal(images[i]))\n",
        "plt.savefig('{0}.jpg'.format(style_layers[-1]))"
      ],
      "execution_count": 0,
      "outputs": []
    },
    {
      "cell_type": "code",
      "metadata": {
        "id": "SW3-jWWV5fid",
        "colab_type": "code",
        "colab": {}
      },
      "source": [
        "content_layers = ['conv4_2']\n",
        "style_layers = ['conv1_1', 'conv2_1', 'conv3_1','conv4_1']\n",
        "alpha = 0.001\n",
        "beta = [4e6, 4e5, 4e4, 4e3]\n",
        "images = []\n",
        "for i in xrange(4):\n",
        "    images.append(reconstruction(content_layers, style_layers, alpha = alpha, beta = beta[i]))\n",
        "    \n",
        "titles = ['10^-9', '10^-8', '10^-7','10^-6']\n",
        "plt.figure(figsize=(60,60))\n",
        "for i in xrange(4):\n",
        "    plt.subplot(1, 4, i+1)\n",
        "    plt.ylabel('{0}'.format(style_layers[-1]))\n",
        "    plt.title('{0}'.format(titles[i]))\n",
        "    plt.imshow(reveal(images[i]))\n",
        "plt.savefig('{0}.jpg'.format(style_layers[-1]))"
      ],
      "execution_count": 0,
      "outputs": []
    },
    {
      "cell_type": "code",
      "metadata": {
        "id": "viyHq7GE5fik",
        "colab_type": "code",
        "colab": {}
      },
      "source": [
        "content_layers = ['conv4_2']\n",
        "style_layers = ['conv1_1', 'conv2_1', 'conv3_1','conv4_1','conv5_1]\n",
        "alpha = 0.001\n",
        "beta = [5e6, 5e5, 5e4, 5e3]\n",
        "images = []\n",
        "for i in xrange(4):\n",
        "    images.append(reconstruction(content_layers, style_layers, alpha = alpha, beta = beta[i]))\n",
        "                \n",
        "titles = ['10^-9', '10^-8', '10^-7','10^-6']\n",
        "plt.figure(figsize=(60,60))\n",
        "for i in xrange(4):\n",
        "    plt.subplot(1, 4, i+1)\n",
        "    plt.ylabel('{0}'.format(style_layers[-1]))\n",
        "    plt.title('{0}'.format(titles[i]))\n",
        "    plt.imshow(reveal(images[i]))\n",
        "plt.savefig('{0}.jpg'.format(style_layers[-1]))"
      ],
      "execution_count": 0,
      "outputs": []
    },
    {
      "cell_type": "code",
      "metadata": {
        "id": "0vHunp5e5fip",
        "colab_type": "code",
        "colab": {}
      },
      "source": [
        "content_layers = ['conv1_1', 'conv2_1', 'conv3_1','conv4_1','conv5_1']\n",
        "style_layers = ['conv1_1']\n",
        "alpha = 0.001\n",
        "beta = 0\n",
        "images = []\n",
        "for i in xrange(5):\n",
        "    images.append(reconstruction([content_layers[i]], style_layers, alpha = alpha, beta = beta))\n",
        "    \n",
        "plt.figure(figsize=(60,60))\n",
        "for i in xrange(5):\n",
        "    plt.subplot(1, 5, i+1)\n",
        "    plt.imshow(reveal(images[i]))\n",
        "plt.savefig('{0}.jpg'.format('content reconstruction'))"
      ],
      "execution_count": 0,
      "outputs": []
    },
    {
      "cell_type": "code",
      "metadata": {
        "colab_type": "code",
        "id": "dvUYAja85q8A",
        "colab": {}
      },
      "source": [
        "content_layers = ['conv1_1', 'conv2_1', 'conv3_1','conv4_1','conv5_1']\n",
        "style_layers = ['conv1_1']\n",
        "alpha = 0.001\n",
        "beta = 0\n",
        "images = []\n",
        "for i in xrange(5):\n",
        "    images.append(reconstruction([content_layers[i]], style_layers, alpha = alpha, beta = beta))\n",
        "    \n",
        "plt.figure(figsize=(60,60))\n",
        "for i in xrange(5):\n",
        "    plt.subplot(1, 5, i+1)\n",
        "    plt.imshow(reveal(images[i])[150:300,350:500,:])\n",
        "plt.savefig('{0}.jpg'.format('content reconstruction details'))\n"
      ],
      "execution_count": 0,
      "outputs": []
    },
    {
      "cell_type": "code",
      "metadata": {
        "id": "2LZfoks-5fi0",
        "colab_type": "code",
        "colab": {}
      },
      "source": [
        ""
      ],
      "execution_count": 0,
      "outputs": []
    },
    {
      "cell_type": "code",
      "metadata": {
        "id": "DOQpHOi95fi2",
        "colab_type": "code",
        "colab": {}
      },
      "source": [
        ""
      ],
      "execution_count": 0,
      "outputs": []
    }
  ]
}